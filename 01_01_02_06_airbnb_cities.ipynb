{
 "cells": [
  {
   "cell_type": "markdown",
   "metadata": {},
   "source": [
    "What's the most expensive listing? What else can you tell me about the listing?"
   ]
  },
  {
   "cell_type": "markdown",
   "metadata": {},
   "source": [
    "SELECT * FROM chi_listings\n",
    "ORDER BY price DESC\n",
    "LIMIT 25;\n",
    "\n",
    "The most expensive AirBnB in Chicago is for 10,000.  This listing says it's perfect for groups of 50-115.  Of course the room_type is  an entire house/apt, opposed to a private room.  The host also holds the 3rd most expensive listing for $6,200, which sleeps up to 74.  These listings do not have any reviews.  \n",
    "\n",
    "The majority of most expensive listings are for an entire house/apt.  The second most expnsive listing is $9,999 for only a private room, but the minimum number of nights for that listing is 80 nights.  \n",
    "\n",
    "SELECT * FROM chi_reviews\n",
    "WHERE listing_id = '19643452';\n",
    "\n",
    "The reviews for the second most expensive location say it is a good location with a comfortable bed.  "
   ]
  },
  {
   "cell_type": "markdown",
   "metadata": {},
   "source": [
    "What neighborhoods seem to be the most popular?"
   ]
  },
  {
   "cell_type": "markdown",
   "metadata": {},
   "source": [
    "SELECT neighbourhood, COUNT(*) FROM chi_listings\n",
    "GROUP BY neighbourhood\n",
    "ORDER BY COUNT(*) DESC\n",
    "LIMIT 5;\n",
    "\n",
    "West Town, Lake View, Near North Side, Logan Square, and Lincoln Park are the 5 most common neighbourhoods listed for Chicago.  "
   ]
  },
  {
   "cell_type": "markdown",
   "metadata": {},
   "source": [
    "What time of year is the cheapest time to go to your city? What about the busiest?"
   ]
  },
  {
   "cell_type": "markdown",
   "metadata": {},
   "source": [
    "The cheapest time to vist is 2019-01-08\n",
    "\n",
    "SELECT \n",
    "    calendar_date, \n",
    "    AVG(price::money::numeric::float8) \n",
    "FROM\n",
    "\tchi_calendar\n",
    "WHERE\n",
    "\tavailable LIKE 't'\n",
    "GROUP BY calendar_date \n",
    "ORDER BY AVG(price::money::numeric::float8) ASC\n",
    "LIMIT 10;\n",
    "\n",
    "\n",
    "The busiest time of the year is also 2019-01-08\n",
    "\n",
    "SELECT\n",
    "\tcalendar_date,\n",
    "\tCOUNT(listing_id)\n",
    "FROM\n",
    "\tchi_calendar\n",
    "WHERE\n",
    "\tavailable LIKE 't'\n",
    "GROUP BY \n",
    "\tcalendar_date\n",
    "ORDER BY COUNT(listing_id) DESC;"
   ]
  },
  {
   "cell_type": "markdown",
   "metadata": {},
   "source": [
    "postgres=# CREATE DATABASE airbnb;\n",
    "\n",
    "postgres=# \\c airbnb"
   ]
  },
  {
   "cell_type": "markdown",
   "metadata": {},
   "source": [
    "airbnb=# CREATE TABLE chi_listings (\n",
    "    id BIGINT,\n",
    "    name TEXT,\n",
    "    host_id BIGINT,\n",
    "    host_name TEXT,\n",
    "    neighbourhood_group TEXT,\n",
    "    neighbourhood TEXT,\n",
    "    latitude TEXT,\n",
    "    longitude TEXT,\n",
    "    room_type TEXT,\n",
    "    price REAL,\n",
    "    minimum_nights INTEGER,\n",
    "    number_of_reviews INTEGER,\n",
    "    last_review DATE,\n",
    "    reviews_per_month REAl,\n",
    "    calculated_host_listings_count INTEGER,\n",
    "    availability_365 TEXT\n",
    ");"
   ]
  },
  {
   "cell_type": "markdown",
   "metadata": {},
   "source": [
    "airbnb=# CREATE TABLE chi_reviews (\n",
    "\tlisting_id BIGINT,\n",
    "\tid BIGINT,\n",
    "\treview_date DATE,\n",
    "\treviewer_id BIGINT,\n",
    "\treviewer_name TEXT,\n",
    "\tcomments TEXT\n",
    ");\n"
   ]
  },
  {
   "cell_type": "markdown",
   "metadata": {},
   "source": [
    "airbnb=# CREATE TABLE chi_calendar (\n",
    "\tlisting_id BIGINT,\n",
    "\tcalendar_date DATE,\n",
    "\tavailable CHAR,\n",
    "\tprice TEXT\n",
    ");"
   ]
  },
  {
   "cell_type": "markdown",
   "metadata": {},
   "source": [
    "airbnb=# COPY chi_listings FROM\n",
    "'/home/tohagan/thinkful/listings.csv'\n",
    "delimiter ',' csv;"
   ]
  },
  {
   "cell_type": "markdown",
   "metadata": {},
   "source": [
    "airbnb=# COPY chi_reviews FROM\n",
    "'/home/tohagan/thinkful/reviews.csv'\n",
    "delimiter ',' csv;"
   ]
  },
  {
   "cell_type": "markdown",
   "metadata": {},
   "source": [
    "airbnb=# COPY chi_calendar FROM\n",
    "'/home/tohagan/thinkful/calendar.csv'\n",
    "delimiter ',' csv;"
   ]
  }
 ],
 "metadata": {
  "kernelspec": {
   "display_name": "Python 3",
   "language": "python",
   "name": "python3"
  },
  "language_info": {
   "codemirror_mode": {
    "name": "ipython",
    "version": 3
   },
   "file_extension": ".py",
   "mimetype": "text/x-python",
   "name": "python",
   "nbconvert_exporter": "python",
   "pygments_lexer": "ipython3",
   "version": "3.6.5"
  }
 },
 "nbformat": 4,
 "nbformat_minor": 2
}
